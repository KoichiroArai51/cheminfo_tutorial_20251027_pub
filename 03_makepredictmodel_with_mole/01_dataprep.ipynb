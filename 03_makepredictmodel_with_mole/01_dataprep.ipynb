{
 "cells": [
  {
   "cell_type": "code",
   "execution_count": null,
   "id": "4d611c0d-c6a1-4572-81f8-676080b680af",
   "metadata": {},
   "outputs": [],
   "source": [
    "import pandas as pd"
   ]
  },
  {
   "cell_type": "code",
   "execution_count": null,
   "id": "583101c9-b131-43e6-ac65-a50a94950c66",
   "metadata": {},
   "outputs": [],
   "source": [
    "df = pd.read_csv('../02_makepredictmodel_with_gcn/data.csv')\n",
    "df.head(2)"
   ]
  },
  {
   "cell_type": "code",
   "execution_count": null,
   "id": "3b31abfa-2328-4a41-b15c-31094ff9ac4b",
   "metadata": {},
   "outputs": [],
   "source": [
    "df4mole = df.loc[:,['MOL_smiles',\n",
    "                    'LOG_HLM_CLint', \n",
    "                    'LOG_RLM_CLint', \n",
    "                    'LOG_MDR1-MDCK_ER', \n",
    "                    'LOG_HPPB', \n",
    "                    'LOG_RPPB',\n",
    "                    'LOG_SOLUBILITY']]"
   ]
  },
  {
   "cell_type": "code",
   "execution_count": null,
   "id": "966eb85b-dea0-4d10-a570-00b0c53c0d14",
   "metadata": {},
   "outputs": [],
   "source": [
    "df4mole=df4mole.rename(columns={\"MOL_smiles\":\"smiles\"})\n",
    "df4mole.head(2)"
   ]
  },
  {
   "cell_type": "code",
   "execution_count": null,
   "id": "d20c72fa-68af-4912-8347-dd052824ff2b",
   "metadata": {},
   "outputs": [],
   "source": [
    "df4mole.to_csv('./train_data.csv', index=False)\n"
   ]
  },
  {
   "cell_type": "code",
   "execution_count": null,
   "id": "88ab19c4-0c8a-4849-b5a9-7257a923ecc0",
   "metadata": {},
   "outputs": [],
   "source": []
  }
 ],
 "metadata": {
  "kernelspec": {
   "display_name": "Python 3 (ipykernel)",
   "language": "python",
   "name": "python3"
  },
  "language_info": {
   "codemirror_mode": {
    "name": "ipython",
    "version": 3
   },
   "file_extension": ".py",
   "mimetype": "text/x-python",
   "name": "python",
   "nbconvert_exporter": "python",
   "pygments_lexer": "ipython3",
   "version": "3.10.18"
  }
 },
 "nbformat": 4,
 "nbformat_minor": 5
}
