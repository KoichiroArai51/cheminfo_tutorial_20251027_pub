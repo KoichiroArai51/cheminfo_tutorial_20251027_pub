{
 "cells": [
  {
   "cell_type": "code",
   "execution_count": null,
   "id": "1a477494",
   "metadata": {},
   "outputs": [],
   "source": [
    "from mole import mole_predict\n",
    "import pandas as pd\n",
    "\n",
    "MODEL_PATH = \"./model19-2200.ckpt\" \n",
    "NUM_TASKS = 6\n",
    "\n",
    "smiles_list = [\n",
    "    \"c1ccccc1\",  # benzene\n",
    "    \"CCO\",       # ethanol\n",
    "    \"CC(=O)O\",   # acetic acid\n",
    "    \"c1cnccc1\"  # pyridine\n",
    "]"
   ]
  },
  {
   "cell_type": "code",
   "execution_count": null,
   "id": "ee4128d1",
   "metadata": {},
   "outputs": [],
   "source": [
    "!pwd"
   ]
  },
  {
   "cell_type": "code",
   "execution_count": null,
   "id": "22a12daf",
   "metadata": {},
   "outputs": [],
   "source": [
    "predictions = mole_predict.predict(smiles=smiles_list,\n",
    "                                    pretrained_model=MODEL_PATH,\n",
    "                                    num_tasks=NUM_TASKS,\n",
    "                                    batch_size=32,\n",
    "                                    num_workers=4)"
   ]
  },
  {
   "cell_type": "markdown",
   "id": "3372c3b8",
   "metadata": {},
   "source": []
  },
  {
   "cell_type": "code",
   "execution_count": null,
   "id": "13e02824",
   "metadata": {},
   "outputs": [],
   "source": [
    "predictions"
   ]
  },
  {
   "cell_type": "code",
   "execution_count": null,
   "id": "c092ae98",
   "metadata": {},
   "outputs": [],
   "source": []
  }
 ],
 "metadata": {
  "kernelspec": {
   "display_name": "mole",
   "language": "python",
   "name": "python3"
  },
  "language_info": {
   "codemirror_mode": {
    "name": "ipython",
    "version": 3
   },
   "file_extension": ".py",
   "mimetype": "text/x-python",
   "name": "python",
   "nbconvert_exporter": "python",
   "pygments_lexer": "ipython3",
   "version": "3.10.18"
  }
 },
 "nbformat": 4,
 "nbformat_minor": 5
}
