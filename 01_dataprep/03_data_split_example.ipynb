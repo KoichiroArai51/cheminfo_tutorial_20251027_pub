{
 "cells": [
  {
   "cell_type": "code",
   "execution_count": null,
   "id": "42c3915f-7cb6-4601-8752-2f4eaba8349a",
   "metadata": {},
   "outputs": [],
   "source": [
    "import pandas as pd\n",
    "import datamol as dm\n",
    "from splito import ScaffoldSplit\n",
    "from rdkit import Chem\n",
    "from rdkit.Chem.Draw import IPythonConsole\n",
    "from rdkit.Chem import Draw"
   ]
  },
  {
   "cell_type": "code",
   "execution_count": null,
   "id": "50cca169-7384-4577-94f8-a7cdb8943f05",
   "metadata": {},
   "outputs": [],
   "source": [
    "df = pd.read_csv('../fang2023_ADME_curated.csv')\n",
    "df.head(2)"
   ]
  },
  {
   "cell_type": "markdown",
   "id": "656c475e",
   "metadata": {},
   "source": [
    "## Scaffold split method splits data based on Bemis-Murcko scaffold"
   ]
  },
  {
   "cell_type": "code",
   "execution_count": null,
   "id": "9b2642b2-9534-4f96-9dad-8dc155184afc",
   "metadata": {},
   "outputs": [],
   "source": [
    "splitter = ScaffoldSplit(smiles=df['SMILES'].tolist(),n_jobs=-1, test_size=0.2, random_state=111)"
   ]
  },
  {
   "cell_type": "code",
   "execution_count": null,
   "id": "2aac27f4",
   "metadata": {},
   "outputs": [],
   "source": [
    "train_idx, test_idx = next(splitter.split(X=df[\"SMILES\"].values))\n",
    "print(len(train_idx), len(test_idx), df.shape[0])"
   ]
  },
  {
   "cell_type": "code",
   "execution_count": null,
   "id": "a90b8ebf",
   "metadata": {},
   "outputs": [],
   "source": [
    "df.loc[train_idx, \"Scaffold_split\"] = \"train\"\n",
    "df.loc[test_idx, \"Scaffold_split\"] = \"test\""
   ]
  },
  {
   "cell_type": "code",
   "execution_count": null,
   "id": "98ba7922",
   "metadata": {},
   "outputs": [],
   "source": [
    "from viz_utils import visualize_chemspace"
   ]
  },
  {
   "cell_type": "code",
   "execution_count": null,
   "id": "3f871a36",
   "metadata": {},
   "outputs": [],
   "source": [
    "visualize_chemspace(df, split_names=[\"Scaffold_split\"], mol_col=\"SMILES\")"
   ]
  },
  {
   "cell_type": "markdown",
   "id": "43e08cec",
   "metadata": {},
   "source": []
  },
  {
   "cell_type": "code",
   "execution_count": null,
   "id": "3d138210",
   "metadata": {},
   "outputs": [],
   "source": []
  },
  {
   "cell_type": "code",
   "execution_count": null,
   "id": "b12bda58-9eed-47e2-b4ce-824907d4d03d",
   "metadata": {},
   "outputs": [],
   "source": [
    "df.describe()"
   ]
  },
  {
   "cell_type": "code",
   "execution_count": null,
   "id": "308824ef-1606-4a45-b66f-d135b6ce22bd",
   "metadata": {},
   "outputs": [],
   "source": [
    "for c in df.columns:\n",
    "    print(c)"
   ]
  },
  {
   "cell_type": "code",
   "execution_count": null,
   "id": "2efada8c-105b-430a-82dc-6cec5ecaa2ad",
   "metadata": {},
   "outputs": [],
   "source": []
  }
 ],
 "metadata": {
  "kernelspec": {
   "display_name": "cbi2025",
   "language": "python",
   "name": "python3"
  },
  "language_info": {
   "codemirror_mode": {
    "name": "ipython",
    "version": 3
   },
   "file_extension": ".py",
   "mimetype": "text/x-python",
   "name": "python",
   "nbconvert_exporter": "python",
   "pygments_lexer": "ipython3",
   "version": "3.12.0"
  }
 },
 "nbformat": 4,
 "nbformat_minor": 5
}
