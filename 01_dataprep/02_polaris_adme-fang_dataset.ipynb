{
 "cells": [
  {
   "cell_type": "markdown",
   "id": "545099e3-0eb9-4a80-a0c6-0448c0674502",
   "metadata": {},
   "source": [
    "# Dataset creation with [Polaris](https://github.com/polaris-hub/polaris)\n",
    "The first step of creating a benchmark is to set up a standard dataset which allows accessing the curated dataset (which has been demonstrated in <01_polaris_adme-fang_data_curation.ipynb>), and all necessary information about the dataset such as data source, description of endpoints, units etc. "
   ]
  },
  {
   "cell_type": "code",
   "execution_count": null,
   "id": "30138c1e",
   "metadata": {
    "scrolled": true
   },
   "outputs": [],
   "source": [
    "%load_ext autoreload\n",
    "%autoreload 2\n",
    "\n",
    "import os\n",
    "import sys\n",
    "import pathlib\n",
    "\n",
    "import fsspec\n",
    "import pandas as pd\n",
    "import datamol as dm\n",
    "\n",
    "# polaris dataset\n",
    "from polaris.dataset import Dataset, ColumnAnnotation\n",
    "from polaris.utils.types import HubOwner\n",
    "\n",
    "\n",
    "#root = pathlib.Path(\"__file__\").absolute().parents[2]\n",
    "#os.chdir(root)\n",
    "#sys.path.insert(0, str(root))\n",
    "# modify path\n",
    "# root =　ここはチュートリアルを受講する皆様のPATHに書き換えて下さい。全角、半角、スペースの有無など含めTypoにご注意下さい \n",
    "root = pathlib.Path(\"/home/iwatobipen/dev/cheminfo_tutorial_20251027/\")\n",
    "from utils.docs_utils import load_readme"
   ]
  },
  {
   "cell_type": "code",
   "execution_count": null,
   "id": "b5c6d872",
   "metadata": {},
   "outputs": [],
   "source": [
    "# Get the owner and organization\n",
    "org = \"biogen\"\n",
    "data_name = \"fang2023_ADME\"\n",
    "dirname = dm.fs.join(root, f\"org-{org}\", \"biogen\", data_name)\n",
    "gcp_root = f\"https://storage.polarishub.io/public/polaris-recipes/org-{org}/{data_name}\"\n",
    "\n",
    "owner = HubOwner(slug=org, type=\"organization\")\n",
    "owner"
   ]
  },
  {
   "cell_type": "code",
   "execution_count": null,
   "id": "2b30cfce-4ca6-40d5-9cc0-5eab86a11901",
   "metadata": {},
   "outputs": [],
   "source": [
    "BENCHMARK_DIR = f\"https://storage.polarishub.io/public/polaris-recipes/org-{org}/{data_name}/benchmarks\"\n",
    "DATASET_DIR = f\"https://storage.polarishub.io/public/polaris-recipes/org-{org}/{data_name}/datasets\"\n",
    "FIGURE_DIR = f\"https://storage.polarishub.io/public/polaris-recipes/org-{org}/{data_name}/figures\""
   ]
  },
  {
   "cell_type": "markdown",
   "id": "7f22cb4b-6303-425c-9a15-d437705baff9",
   "metadata": {},
   "source": [
    "## Load existing data\n",
    "> **Attention:** \\\n",
    "> The original dataset is published in [`Fang et al. 2023`](https://doi.org/10.1021/acs.jcim.3c00160). \n",
    "https://github.com/molecularinformatics/Computational-ADME/blob/main/ADME_public_set_3521.csv \\ \\\n",
    "> To **maintain consistency** with other benchmarks in the Polaris Hub, a thorough data curation process is carried out to ensure the accuracy of molecular presentations.\n",
    "> Therefore, the raw data from the data resource is not used here. \n",
    "> See more curation details in [01_polaris_adme-fang-1_data_curation.ipynb](https://github.com/polaris-hub/polaris-recipes/org-Biogen/fang2023_ADME/01_polaris_adme-fang-1_data_curation.ipynb)."
   ]
  },
  {
   "cell_type": "code",
   "execution_count": null,
   "id": "917f6297",
   "metadata": {},
   "outputs": [],
   "source": [
    "# Load the curated data\n",
    "# PATH = f\"https://storage.polarishub.io/public/polaris-recipes/org-biogen/fang2023_ADME/data/curation/fang2023_ADME_curated.csv\"\n",
    "PATH = '../fang2023_ADME_curated.csv'\n",
    "with fsspec.open(PATH, \"r\") as f:\n",
    "    table = pd.read_csv(PATH)"
   ]
  },
  {
   "cell_type": "markdown",
   "id": "39e9b589-c4fc-4229-98d6-5a78ce236da7",
   "metadata": {},
   "source": [
    "### Below we specify the meta information of data columns"
   ]
  },
  {
   "cell_type": "code",
   "execution_count": null,
   "id": "64f8d241-61db-4c25-a317-1ec6eafb065e",
   "metadata": {},
   "outputs": [],
   "source": [
    "# Here we simplify the column names\n",
    "table = table.rename(\n",
    "    columns={\n",
    "        \"MOL_molhash_id\": \"UNIQUE_ID\",\n",
    "        \"LOG HLM_CLint (mL/min/kg)\": \"LOG_HLM_CLint\",\n",
    "        \"LOG RLM_CLint (mL/min/kg)\": \"LOG_RLM_CLint\",\n",
    "        \"LOG MDR1-MDCK ER (B-A/A-B)\": \"LOG_MDR1-MDCK_ER\",\n",
    "        \"LOG PLASMA PROTEIN BINDING (HUMAN) (% unbound)\": \"LOG_HPPB\",\n",
    "        \"LOG PLASMA PROTEIN BINDING (RAT) (% unbound)\": \"LOG_RPPB\",\n",
    "        \"LOG SOLUBILITY PH 6.8 (ug/mL)\": \"LOG_SOLUBILITY\",\n",
    "    }\n",
    ")\n",
    "\n",
    "# molecule column\n",
    "mol_col = \"MOL_smiles\""
   ]
  },
  {
   "cell_type": "code",
   "execution_count": null,
   "id": "0c40b1eb-4f9f-4d5e-bece-1d2de39df707",
   "metadata": {},
   "outputs": [],
   "source": [
    "table.reset_index(drop=True, inplace=True)"
   ]
  },
  {
   "cell_type": "markdown",
   "id": "22ddf97e-52ad-42fb-872e-17a8b6f3fb57",
   "metadata": {},
   "source": [
    "Not all the columns are necessary, only the columns which are useful for the benchmarks will be annotated. Here we only use the columns that were used for training in the original paper. "
   ]
  },
  {
   "cell_type": "markdown",
   "id": "63f59e2f-3f3b-4cfe-802f-8b8e530c9e5f",
   "metadata": {},
   "source": [
    "It's necessary to specify the key bioactivity columns, molecule structures and identifiers in the dataset with `ColumnAnnotation`. It is possible to add `user_attributes` with any key and values when needed, such as `unit`, `organism`, `scale` and optimization `objective`. \n",
    "\n",
    "**Abbrevations for the endpoint objective**\n",
    "- THTB: the higher the better\n",
    "- TLTB: the lower the better"
   ]
  },
  {
   "cell_type": "code",
   "execution_count": null,
   "id": "3145fc25-e670-413a-8926-8ab9d6fcb3b0",
   "metadata": {},
   "outputs": [],
   "source": [
    "annotations = {\n",
    "    \"UNIQUE_ID\": ColumnAnnotation(\n",
    "        description=\"Molecular hash ID. See <datamol.mol.hash_mol>\"\n",
    "    ),\n",
    "    \"MOL_smiles\": ColumnAnnotation(\n",
    "        description=\"Molecule SMILES string after cleaning and standardization.\",\n",
    "        modality=\"molecule\",\n",
    "    ),\n",
    "    \"SMILES\": ColumnAnnotation(\n",
    "        description=\"Original molecule SMILES string from the publication.\"\n",
    "    ),\n",
    "    \"LOG_HLM_CLint\": ColumnAnnotation(\n",
    "        description=\"Human liver microsomal stability reported as intrinsic clearance\",\n",
    "        user_attributes={\n",
    "            \"unit\": \"mL/min/kg\",\n",
    "            \"scale\": \"log\",\n",
    "            \"organism\": \"human\",\n",
    "            \"objective\": \"Higher value\",\n",
    "        },\n",
    "    ),\n",
    "    \"LOG_RLM_CLint\": ColumnAnnotation(\n",
    "        description=\"Rat liver microsomal stability reported as intrinsic clearance\",\n",
    "        user_attributes={\n",
    "            \"unit\": \"mL/min/kg\",\n",
    "            \"scale\": \"log\",\n",
    "            \"organism\": \"rat\",\n",
    "            \"objective\": \"Lower value\",\n",
    "        },\n",
    "    ),\n",
    "    \"LOG_MDR1-MDCK_ER\": ColumnAnnotation(\n",
    "        description=\"MDR1-MDCK efflux ratio (B-A/A-B)\",\n",
    "        user_attributes={\n",
    "            \"unit\": \"mL/min/kg\",\n",
    "            \"scale\": \"log\",\n",
    "            \"objective\": \"Higher value\",\n",
    "        },\n",
    "    ),\n",
    "    \"LOG_HPPB\": ColumnAnnotation(\n",
    "        description=\"Human plasma protein binding\",\n",
    "        user_attributes={\"unit\": \"% unbound\", \"objective\": \"Lower value\"},\n",
    "    ),\n",
    "    \"LOG_RPPB\": ColumnAnnotation(\n",
    "        description=\"Rat plasma protein binding\",\n",
    "        user_attributes={\"unit\": \"% unbound\", \"objective\": \"Lower value\"},\n",
    "    ),\n",
    "    \"LOG_SOLUBILITY\": ColumnAnnotation(\n",
    "        description=\"Solubility was measured after equilibrium between the dissolved and solid state\",\n",
    "        user_attributes={\n",
    "            \"unit\": \"ug/mL\",\n",
    "            \"scale\": \"log\",\n",
    "            \"PH\": \"6.8\",\n",
    "            \"objective\": \"Higher value\",\n",
    "        },\n",
    "    ),\n",
    "}"
   ]
  },
  {
   "cell_type": "markdown",
   "id": "b1e0af61-896b-42f0-af62-5ffbf0004aec",
   "metadata": {},
   "source": [
    "### Define `Dataset` object"
   ]
  },
  {
   "cell_type": "code",
   "execution_count": null,
   "id": "a1289480-0835-4730-89cf-1167de1e62f2",
   "metadata": {},
   "outputs": [],
   "source": [
    "dataset_version = \"v2\"\n",
    "dataset_name = f\"adme-fang-{dataset_version}\""
   ]
  },
  {
   "cell_type": "code",
   "execution_count": null,
   "id": "9e606547-f711-4e4d-8c93-97002a8a2236",
   "metadata": {},
   "outputs": [],
   "source": [
    "dataset = Dataset(\n",
    "    table=table[annotations.keys()].copy(),\n",
    "    name=dataset_name,\n",
    "    description=\"A DMPK datasets of six ADME in vitro endpoints from fang et al. 2023. \",\n",
    "    source=\"https://doi.org/10.1021/acs.jcim.3c00160\",\n",
    "    annotations=annotations,\n",
    "    owner=owner,\n",
    "    tags=[\"adme\"],\n",
    "    readme=load_readme(f\"../fang2023_ADME_readme.md\"),\n",
    "    license=\"CC-BY-4.0\",\n",
    "    curation_reference=\"https://github.com/polaris-hub/polaris-recipes/org-Biogen/fang2023_ADME/01_polaris_adme-fang-1_data_curation.ipynb\",\n",
    ")"
   ]
  },
  {
   "cell_type": "markdown",
   "id": "f24fad68",
   "metadata": {},
   "source": [
    "### save prepared data with to_json method\n",
    "- this method will save data as parquet format and save metadata as json format."
   ]
  },
  {
   "cell_type": "code",
   "execution_count": null,
   "id": "8b295721-e50f-4dae-881f-a7660f1284a9",
   "metadata": {},
   "outputs": [],
   "source": [
    "# save the dataset to GCP\n",
    "# modify with your env!!!\n",
    "# DATASET_DIR = ここはチュートリアルを受講する皆様のPATHに書き換えて下さい。全角、半角、スペースの有無など含めTypoにご注意下さい\n",
    "DATASET_DIR='/home/iwatobipen/dev/cheminfo_tutorial_20251027/dataset'\n",
    "SAVE_DIR = f\"{DATASET_DIR}/{dataset_name}\"\n",
    "dataset_path = dataset.to_json(SAVE_DIR)\n",
    "dataset_path\n",
    "dataset.table.to_csv(f\"{SAVE_DIR}/data.csv\", index=False)"
   ]
  },
  {
   "cell_type": "markdown",
   "id": "30a47042",
   "metadata": {},
   "source": [
    "## Please copy data.csv to 02_makepredictmodel_with_gcn"
   ]
  },
  {
   "cell_type": "code",
   "execution_count": null,
   "id": "ae54f85a",
   "metadata": {},
   "outputs": [],
   "source": [
    "### This step is skipped in the tutorial\n",
    "\n",
    "#from polaris.hub.client import PolarisHubClient\n",
    "\n",
    "#client = PolarisHubClient()\n",
    "#client.login()\n",
    "\n",
    "#client.upload_dataset(dataset=dataset, access=\"private\", owner=owner)"
   ]
  },
  {
   "cell_type": "markdown",
   "id": "6b6a96da",
   "metadata": {},
   "source": [
    "## Disclaimers"
   ]
  },
  {
   "cell_type": "markdown",
   "id": "5f74d18b",
   "metadata": {},
   "source": [
    "<div style=\"background-color: lightyellow; padding: 10px; border: 1px solid black;\">\n",
    "    <span>Here are some additional details that may be of use when deciding whether or not to use these datasets.</span><br /><br />\n",
    "    <!-- <strong><span style=\"color: red;\">Disclaimer:</span></strong>  -->\n",
    "     <strong>Some advantages include: </strong>\n",
    "        <ul>\n",
    "        <li>The assays were carried out by one group under a consistent set of conditions.</li>\n",
    "        <li>Dataset contains only a small number of molecules with unspecified stereocenters.</li>\n",
    "        <li>There are no duplicated structures in the dataset.</li>\n",
    "        <li>The data is based on a well-defined ADME endpoints.</li>\n",
    "        </ul>\n",
    "     <strong>Some limitations to consider: </strong>\n",
    "        <ul>\n",
    "        <li>The size of the PPB datasets are small, making it challenging to determine a statistically significant difference between methods on these sets.</li>\n",
    "        </ul>\n",
    "        \n",
    "\n",
    "</div>\n"
   ]
  }
 ],
 "metadata": {
  "kernelspec": {
   "display_name": "cbi2025",
   "language": "python",
   "name": "python3"
  },
  "language_info": {
   "codemirror_mode": {
    "name": "ipython",
    "version": 3
   },
   "file_extension": ".py",
   "mimetype": "text/x-python",
   "name": "python",
   "nbconvert_exporter": "python",
   "pygments_lexer": "ipython3",
   "version": "3.12.0"
  }
 },
 "nbformat": 4,
 "nbformat_minor": 5
}
