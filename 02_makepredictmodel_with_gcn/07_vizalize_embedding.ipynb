{
 "cells": [
  {
   "cell_type": "markdown",
   "id": "8800f253",
   "metadata": {},
   "source": [
    "### merge files\n",
    "### for linux\n",
    "```sh\n",
    "paste -d \",\" data.csv encodings_1_0.csv > merged01.csv\n",
    "paste -d \",\" data.csv encodings_2_0.csv > merged02.csv\n",
    "\n",
    "```"
   ]
  },
  {
   "cell_type": "code",
   "execution_count": null,
   "id": "5862eff5-23e6-4c8c-8742-35ebd6650de7",
   "metadata": {},
   "outputs": [],
   "source": [
    "import pathlib\n",
    "import sys\n",
    "import os\n",
    "from bokeh.io import push_notebook, show, output_notebook, push_notebook\n",
    "from bokeh.plotting import figure\n",
    "from bokeh.plotting import ColumnDataSource\n",
    "\n",
    "import pandas as pd\n",
    "import numpy as np\n",
    "#from sklearn.manifold import TSNE\n",
    "from sklearn.decomposition import PCA\n",
    "from rdkit import Chem\n",
    "from rdkit.Chem import Draw\n",
    "from rdkit.Chem.Draw import IPythonConsole\n",
    "from rdkit.Chem.Draw import rdMolDraw2D\n",
    "from rdkit.Chem.Draw import rdDepictor\n",
    "from rdkit import RDLogger\n",
    "RDLogger.DisableLog('rdApp.info')\n",
    "\n",
    "\n",
    "def mol2svg(mol):\n",
    "    \"\"\"\n",
    "    Generate an SVG representation of an RDKit molecule.\n",
    "\n",
    "    Args:\n",
    "        mol (rdkit.Chem.Mol): RDKit molecule object.\n",
    "\n",
    "    Returns:\n",
    "        str: SVG string of the molecule drawing.\n",
    "    \"\"\"\n",
    "    rdDepictor.Compute2DCoords(mol)\n",
    "    d2d = rdMolDraw2D.MolDraw2DSVG(200, 100)\n",
    "    d2d.DrawMolecule(mol)\n",
    "    d2d.FinishDrawing()\n",
    "    return d2d.GetDrawingText()\n",
    "\n",
    "notedir = pathlib.Path().resolve()\n",
    "print(notedir)\n",
    "\n",
    "output_notebook()"
   ]
  },
  {
   "cell_type": "code",
   "execution_count": null,
   "id": "baa31336-44c7-4973-afcb-b7e9cc5ccf3c",
   "metadata": {},
   "outputs": [],
   "source": [
    "df = pd.read_csv(\"merged01.csv\")\n",
    "df.head(2)\n",
    "print(df.shape)"
   ]
  },
  {
   "cell_type": "code",
   "execution_count": null,
   "id": "ecc21f5f-8e77-4fb7-84fc-71da684ba5c1",
   "metadata": {},
   "outputs": [],
   "source": [
    "df_clean = df.dropna(subset=[\"fp_0\"])\n",
    "print(df_clean.shape)"
   ]
  },
  {
   "cell_type": "code",
   "execution_count": null,
   "id": "7ec53e62-3171-4385-b5f6-ad85172f62db",
   "metadata": {},
   "outputs": [],
   "source": [
    "selected_colmns = df_clean.filter(regex=\"^fp_\")"
   ]
  },
  {
   "cell_type": "code",
   "execution_count": null,
   "id": "711332c6-f0d1-46ae-a473-edb2ff6e1d6d",
   "metadata": {},
   "outputs": [],
   "source": []
  },
  {
   "cell_type": "code",
   "execution_count": null,
   "id": "51c93225-1d01-48d6-9883-1b1c70ae2ea7",
   "metadata": {},
   "outputs": [],
   "source": [
    "selected_colmns.head(2)"
   ]
  },
  {
   "cell_type": "code",
   "execution_count": null,
   "id": "09457ae2-ffff-40ab-ab22-b5c7fb392206",
   "metadata": {},
   "outputs": [],
   "source": [
    "selected_colmns.shape"
   ]
  },
  {
   "cell_type": "code",
   "execution_count": null,
   "id": "a9e32419-62cd-498e-8b62-1e2e2e1ae60a",
   "metadata": {},
   "outputs": [],
   "source": [
    "pca = PCA(n_components=2)\n",
    "res = pca.fit_transform(selected_colmns)"
   ]
  },
  {
   "cell_type": "code",
   "execution_count": null,
   "id": "04f8e0b8-9212-458f-bfd4-38488fdd7bed",
   "metadata": {},
   "outputs": [],
   "source": [
    "res.shape"
   ]
  },
  {
   "cell_type": "code",
   "execution_count": null,
   "id": "7f799355-6a5d-4d25-9598-f49c71537fc1",
   "metadata": {},
   "outputs": [],
   "source": [
    "molsvgs = [mol2svg(Chem.MolFromSmiles(smi)) for smi in df_clean[\"MOL_smiles\"]]\n",
    "\n",
    "data = dict(x=res[:,0],\n",
    "       y=res[:,1],\n",
    "        ids = [uniqid for uniqid in df_clean.UNIQUE_ID.values],\n",
    "        img = molsvgs,\n",
    "        )\n",
    "\n",
    "TOOLTIPS = \"\"\"\n",
    "<div>\n",
    "ROW-ID: @ids<br>\n",
    "<div>@img{safe}</div>\n",
    "</div>\n",
    "\"\"\""
   ]
  },
  {
   "cell_type": "code",
   "execution_count": null,
   "id": "4bc528be-cfb7-4bc0-9405-9b1555bfb68b",
   "metadata": {},
   "outputs": [],
   "source": [
    "source = ColumnDataSource(data)\n",
    "p = figure(tooltips=TOOLTIPS, width=800, height=400,)\n",
    "c = p.scatter('x', 'y', size=5, source=source, \n",
    "         #fill_color=mapper,\n",
    "         alpha=0.6\n",
    "        )"
   ]
  },
  {
   "cell_type": "code",
   "execution_count": null,
   "id": "4a783af7-6f5b-4353-ae97-d8bd92b4ec5e",
   "metadata": {},
   "outputs": [],
   "source": [
    "handle = show(p, notebook_handle=True)\n",
    "push_notebook(handle=handle)"
   ]
  },
  {
   "cell_type": "code",
   "execution_count": null,
   "id": "c74c6ad4-25cf-4562-a1d5-120af76d0772",
   "metadata": {},
   "outputs": [],
   "source": []
  },
  {
   "cell_type": "code",
   "execution_count": null,
   "id": "34f93e90-30fb-4310-9f57-af8109582a1b",
   "metadata": {},
   "outputs": [],
   "source": [
    "df2 = pd.read_csv(\"merged02.csv\")\n",
    "df2.head(2)\n",
    "print(df2.shape)"
   ]
  },
  {
   "cell_type": "code",
   "execution_count": null,
   "id": "76c7f94c-ff27-4311-92e6-c96e57e5e0c1",
   "metadata": {},
   "outputs": [],
   "source": [
    "df_clean2 = df2.dropna(subset=[\"fp_0\"])\n",
    "print(df_clean2.shape)\n",
    "selected_colmns2 = df_clean2.filter(regex=\"^fp_\")"
   ]
  },
  {
   "cell_type": "code",
   "execution_count": null,
   "id": "681b33de-76ff-43a1-9328-cfc09d4eebc9",
   "metadata": {},
   "outputs": [],
   "source": [
    "pca2 = PCA(n_components=2)\n",
    "res2 = pca2.fit_transform(selected_colmns2)"
   ]
  },
  {
   "cell_type": "code",
   "execution_count": null,
   "id": "e9cb9fc9-532b-4dde-9471-996774b66996",
   "metadata": {},
   "outputs": [],
   "source": [
    "molsvgs2 = [mol2svg(Chem.MolFromSmiles(smi)) for smi in df_clean2[\"MOL_smiles\"]]\n",
    "\n",
    "data2 = dict(x=res2[:,0],\n",
    "       y=res2[:,1],\n",
    "        ids = [uniqid for uniqid in df_clean2.UNIQUE_ID.values],\n",
    "        img = molsvgs2,\n",
    "        )\n",
    "\n",
    "TOOLTIPS = \"\"\"\n",
    "<div>\n",
    "ROW-ID: @ids<br>\n",
    "<div>@img{safe}</div>\n",
    "</div>\n",
    "\"\"\""
   ]
  },
  {
   "cell_type": "code",
   "execution_count": null,
   "id": "09a68bbb-9907-48cd-9794-cd82167d07ab",
   "metadata": {},
   "outputs": [],
   "source": [
    "source2 = ColumnDataSource(data2)\n",
    "p2 = figure(tooltips=TOOLTIPS, width=800, height=400,)\n",
    "c2 = p2.scatter('x', 'y', size=5, source=source2, \n",
    "         #fill_color=mapper,\n",
    "         alpha=0.6\n",
    "        )"
   ]
  },
  {
   "cell_type": "code",
   "execution_count": null,
   "id": "d582eb0f-b9c3-4a99-987e-bd02d443e684",
   "metadata": {
    "scrolled": true
   },
   "outputs": [],
   "source": [
    "handle2 = show(p2, notebook_handle=True)\n",
    "push_notebook(handle=handle2)"
   ]
  },
  {
   "cell_type": "code",
   "execution_count": null,
   "id": "2a449ebb-96dc-4a13-8a3c-2db9deb995c6",
   "metadata": {},
   "outputs": [],
   "source": []
  }
 ],
 "metadata": {
  "kernelspec": {
   "display_name": "cbi2025",
   "language": "python",
   "name": "python3"
  },
  "language_info": {
   "codemirror_mode": {
    "name": "ipython",
    "version": 3
   },
   "file_extension": ".py",
   "mimetype": "text/x-python",
   "name": "python",
   "nbconvert_exporter": "python",
   "pygments_lexer": "ipython3",
   "version": "3.12.0"
  }
 },
 "nbformat": 4,
 "nbformat_minor": 5
}
